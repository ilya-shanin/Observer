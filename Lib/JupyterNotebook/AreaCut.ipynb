{
 "cells": [
  {
   "cell_type": "markdown",
   "metadata": {},
   "source": [
    "# Скрипт для вырезания области определенного цвета (247,213,83 - желтый). Необходим чтобы вырезать рабочую область на картинке после её сегментации"
   ]
  },
  {
   "cell_type": "code",
   "execution_count": null,
   "metadata": {},
   "outputs": [],
   "source": [
    "#Import\n",
    "import numpy as np\n",
    "import matplotlib.pyplot as plt\n",
    "import cv2\n",
    "import pandas as pd\n",
    "\n",
    "from PIL import Image, ImageFilter"
   ]
  },
  {
   "cell_type": "code",
   "execution_count": null,
   "metadata": {},
   "outputs": [],
   "source": [
    "# Open image and make into Numpy array\n",
    "im = Image.open('image.png').convert('RGB')\n",
    "na = np.array(im)\n",
    "orig = na.copy()    # Save original\n",
    "\n",
    "# Median filter to remove outliers\n",
    "im = im.filter(ImageFilter.MedianFilter(3))\n",
    "\n",
    "# Find X,Y coordinates of all yellow pixels\n",
    "yellowY, yellowX = np.where(np.all(na==[247,213,83],axis=2))\n",
    "\n",
    "top, bottom = yellowY[0], yellowY[-1]\n",
    "left, right = yellowX[0], yellowX[-1]\n",
    "print(top,bottom,left,right)\n",
    "\n",
    "# Extract Region of Interest from unblurred original\n",
    "ROI = orig[top:bottom, left:right]\n",
    "\n",
    "Image.fromarray(ROI).save('result.png')"
   ]
  }
 ],
 "metadata": {
  "language_info": {
   "name": "python"
  },
  "orig_nbformat": 4
 },
 "nbformat": 4,
 "nbformat_minor": 2
}
